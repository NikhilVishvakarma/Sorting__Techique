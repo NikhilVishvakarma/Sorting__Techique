{
 "cells": [
  {
   "cell_type": "code",
   "execution_count": 1,
   "id": "e4253883",
   "metadata": {},
   "outputs": [],
   "source": [
    "import array \n",
    "from array import *"
   ]
  },
  {
   "cell_type": "code",
   "execution_count": 2,
   "id": "8a561596",
   "metadata": {},
   "outputs": [
    {
     "name": "stdout",
     "output_type": "stream",
     "text": [
      "Enter a number for range:-- 8\n",
      "Enter a number:-- 96\n",
      "Enter a number:-- 1\n",
      "Enter a number:-- 5\n",
      "Enter a number:-- 35\n",
      "Enter a number:-- 68\n",
      "Enter a number:-- 47\n",
      "Enter a number:-- 45\n",
      "Enter a number:-- 63\n",
      "Enter a number:-- 68\n",
      "[96, 1, 5, 35, 68, 47, 45, 63, 68]\n",
      "array('i', [1, 5, 35, 45, 47, 63, 68, 68, 96])\n"
     ]
    }
   ],
   "source": [
    "v=int(input(\"Enter a number for range:-- \"))\n",
    "x=[]\n",
    "for i in range(v+1):\n",
    "    a=int(input(\"Enter a number:-- \"))\n",
    "    x.append(a)\n",
    "print(x)\n",
    "\n",
    "\n",
    "def pairwise_swap(array):\n",
    "    n=len(arr)\n",
    "    for i in range(0,n-1):\n",
    "        for j in range(0,n-i-1):\n",
    "            if arr[j]>arr[j+1]:\n",
    "                arr[j],arr[j+1]=arr[j+1],arr[j]\n",
    "                \n",
    "arr=array('i',x)\n",
    "\n",
    "\n",
    "pairwise_swap(arr)\n",
    "print(arr)\n"
   ]
  },
  {
   "cell_type": "code",
   "execution_count": null,
   "id": "7a657ee0",
   "metadata": {},
   "outputs": [],
   "source": []
  }
 ],
 "metadata": {
  "kernelspec": {
   "display_name": "Python 3 (ipykernel)",
   "language": "python",
   "name": "python3"
  },
  "language_info": {
   "codemirror_mode": {
    "name": "ipython",
    "version": 3
   },
   "file_extension": ".py",
   "mimetype": "text/x-python",
   "name": "python",
   "nbconvert_exporter": "python",
   "pygments_lexer": "ipython3",
   "version": "3.9.12"
  }
 },
 "nbformat": 4,
 "nbformat_minor": 5
}
