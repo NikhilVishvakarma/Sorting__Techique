{
 "cells": [
  {
   "cell_type": "code",
   "execution_count": 1,
   "id": "e07d5eff",
   "metadata": {},
   "outputs": [],
   "source": [
    "import array \n",
    "from array import *"
   ]
  },
  {
   "cell_type": "code",
   "execution_count": 2,
   "id": "50e4dc63",
   "metadata": {},
   "outputs": [
    {
     "name": "stdout",
     "output_type": "stream",
     "text": [
      "array('i', [0, 6, 7, 9, 35, 85])\n"
     ]
    }
   ],
   "source": [
    "# Insertion_sort\n",
    "\n",
    "def insertion_short(arr):\n",
    "    for i in range(1,len(arr)):\n",
    "        j=i\n",
    "        while arr[j-1]>arr[j] and j>0:\n",
    "            arr[j-1],arr[j]=arr[j],arr[j-1]\n",
    "            j=j-1\n",
    "arr=array('i',[85,6,0,7,9,35])\n",
    "insertion_short(arr)\n",
    "print(arr)"
   ]
  },
  {
   "cell_type": "code",
   "execution_count": null,
   "id": "714514d8",
   "metadata": {},
   "outputs": [],
   "source": []
  }
 ],
 "metadata": {
  "kernelspec": {
   "display_name": "Python 3 (ipykernel)",
   "language": "python",
   "name": "python3"
  },
  "language_info": {
   "codemirror_mode": {
    "name": "ipython",
    "version": 3
   },
   "file_extension": ".py",
   "mimetype": "text/x-python",
   "name": "python",
   "nbconvert_exporter": "python",
   "pygments_lexer": "ipython3",
   "version": "3.9.12"
  }
 },
 "nbformat": 4,
 "nbformat_minor": 5
}
